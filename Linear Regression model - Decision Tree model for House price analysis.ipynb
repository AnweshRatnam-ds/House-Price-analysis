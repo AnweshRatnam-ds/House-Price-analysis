{
 "cells": [
  {
   "cell_type": "code",
   "execution_count": 39,
   "id": "a0962a3a",
   "metadata": {},
   "outputs": [],
   "source": [
    "#IMPORT statements\n",
    "import pandas as pd"
   ]
  },
  {
   "cell_type": "code",
   "execution_count": 40,
   "id": "9de12dda",
   "metadata": {
    "scrolled": true
   },
   "outputs": [],
   "source": [
    "###### Drop output column - SalePrice #####\n",
    "hp_df=pd.read_csv('house_price_data.csv')\n",
    "y=hp_df['SalePrice']\n",
    "hp_df.drop(columns='SalePrice',inplace=True)"
   ]
  },
  {
   "cell_type": "code",
   "execution_count": 41,
   "id": "2f87b754",
   "metadata": {},
   "outputs": [],
   "source": [
    "#Get null values and Percentages\n",
    "nainfo_df=pd.DataFrame({'col_name':hp_df.columns,\n",
    "                        'na_count':hp_df.isnull().sum(),\n",
    "                        'na_pc':hp_df.isnull().sum()/hp_df.shape[0]*100\n",
    "                       })"
   ]
  },
  {
   "cell_type": "code",
   "execution_count": 42,
   "id": "ab26e9cc",
   "metadata": {},
   "outputs": [
    {
     "data": {
      "text/plain": [
       "['Alley', 'PoolQC', 'Fence', 'MiscFeature']"
      ]
     },
     "execution_count": 42,
     "metadata": {},
     "output_type": "execute_result"
    }
   ],
   "source": [
    "# sort values based on null percentgae, Drop them\n",
    "nainfo_df.sort_values(by='na_pc',ascending=False)\n",
    "cols_grt50has=list(nainfo_df[nainfo_df['na_pc']>50]['col_name'])\n",
    "#hp_df.drop(cols_grt50has,inplace=True)\n",
    "cols_grt50has\n",
    "#hp_df.drop(columns=cols_grt50has,inplace=True)\n"
   ]
  },
  {
   "cell_type": "code",
   "execution_count": 43,
   "id": "f2b9f214",
   "metadata": {},
   "outputs": [],
   "source": [
    "hp_df.drop(columns='Id',inplace=True)   #delete un-necesssary columns\n"
   ]
  },
  {
   "cell_type": "code",
   "execution_count": 44,
   "id": "99a92e17",
   "metadata": {},
   "outputs": [],
   "source": [
    "#Train Test Split\n",
    "from sklearn.model_selection import train_test_split\n",
    "x_train,x_test,y_train,y_test=train_test_split(hp_df,y,random_state=42,test_size=0.2)"
   ]
  },
  {
   "cell_type": "code",
   "execution_count": 45,
   "id": "3ddc1ca4",
   "metadata": {},
   "outputs": [],
   "source": [
    "# Fill Misiing Values\n",
    "\n",
    "import warnings\n",
    "warnings.filterwarnings('ignore')\n",
    "\n",
    "hp_df['LotArea'].dtype\n",
    "con_cols=[col for col in hp_df.columns if hp_df[col].dtype=='int64' or hp_df[col].dtype=='float64']\n",
    "cat_cols=[col for col in hp_df.columns if hp_df[col].dtype=='object']\n",
    "\n",
    "for col in con_cols:\n",
    "    x_train[col].fillna(x_train[col].mean(),inplace=True)\n",
    "    x_test[col].fillna(x_train[col].mean(),inplace=True)\n",
    "    \n",
    "for col in cat_cols:\n",
    "    x_train[col].fillna(x_train[col].mode()[0],inplace=True)\n",
    "    x_test[col].fillna(x_train[col].mode()[0],inplace=True)\n",
    "    \n",
    "\n"
   ]
  },
  {
   "cell_type": "code",
   "execution_count": 46,
   "id": "24813b1c",
   "metadata": {},
   "outputs": [],
   "source": [
    "# Scale continous variable\n",
    "\n",
    "from sklearn.preprocessing import StandardScaler\n",
    "import numpy as np\n",
    "\n",
    "scaler=StandardScaler()\n",
    "\n",
    "for col in con_cols:\n",
    "    x_train[col]=scaler.fit_transform(np.array(x_train[col]).reshape(-1,1))\n",
    "    x_test[col]=scaler.transform(np.array(x_test[col]).reshape(-1,1))"
   ]
  },
  {
   "cell_type": "code",
   "execution_count": 54,
   "id": "aecc2331",
   "metadata": {},
   "outputs": [
    {
     "data": {
      "text/html": [
       "<div>\n",
       "<style scoped>\n",
       "    .dataframe tbody tr th:only-of-type {\n",
       "        vertical-align: middle;\n",
       "    }\n",
       "\n",
       "    .dataframe tbody tr th {\n",
       "        vertical-align: top;\n",
       "    }\n",
       "\n",
       "    .dataframe thead th {\n",
       "        text-align: right;\n",
       "    }\n",
       "</style>\n",
       "<table border=\"1\" class=\"dataframe\">\n",
       "  <thead>\n",
       "    <tr style=\"text-align: right;\">\n",
       "      <th></th>\n",
       "      <th>-1.375486</th>\n",
       "      <th>-0.619098</th>\n",
       "      <th>0.137290</th>\n",
       "      <th>0.893677</th>\n",
       "      <th>1.650065</th>\n",
       "    </tr>\n",
       "  </thead>\n",
       "  <tbody>\n",
       "    <tr>\n",
       "      <th>892</th>\n",
       "      <td>1</td>\n",
       "      <td>0</td>\n",
       "      <td>0</td>\n",
       "      <td>0</td>\n",
       "      <td>0</td>\n",
       "    </tr>\n",
       "    <tr>\n",
       "      <th>1105</th>\n",
       "      <td>0</td>\n",
       "      <td>0</td>\n",
       "      <td>0</td>\n",
       "      <td>0</td>\n",
       "      <td>1</td>\n",
       "    </tr>\n",
       "    <tr>\n",
       "      <th>413</th>\n",
       "      <td>0</td>\n",
       "      <td>0</td>\n",
       "      <td>0</td>\n",
       "      <td>0</td>\n",
       "      <td>1</td>\n",
       "    </tr>\n",
       "    <tr>\n",
       "      <th>522</th>\n",
       "      <td>1</td>\n",
       "      <td>0</td>\n",
       "      <td>0</td>\n",
       "      <td>0</td>\n",
       "      <td>0</td>\n",
       "    </tr>\n",
       "    <tr>\n",
       "      <th>1036</th>\n",
       "      <td>0</td>\n",
       "      <td>0</td>\n",
       "      <td>0</td>\n",
       "      <td>1</td>\n",
       "      <td>0</td>\n",
       "    </tr>\n",
       "    <tr>\n",
       "      <th>...</th>\n",
       "      <td>...</td>\n",
       "      <td>...</td>\n",
       "      <td>...</td>\n",
       "      <td>...</td>\n",
       "      <td>...</td>\n",
       "    </tr>\n",
       "    <tr>\n",
       "      <th>479</th>\n",
       "      <td>0</td>\n",
       "      <td>1</td>\n",
       "      <td>0</td>\n",
       "      <td>0</td>\n",
       "      <td>0</td>\n",
       "    </tr>\n",
       "    <tr>\n",
       "      <th>1361</th>\n",
       "      <td>0</td>\n",
       "      <td>0</td>\n",
       "      <td>0</td>\n",
       "      <td>1</td>\n",
       "      <td>0</td>\n",
       "    </tr>\n",
       "    <tr>\n",
       "      <th>802</th>\n",
       "      <td>0</td>\n",
       "      <td>0</td>\n",
       "      <td>1</td>\n",
       "      <td>0</td>\n",
       "      <td>0</td>\n",
       "    </tr>\n",
       "    <tr>\n",
       "      <th>651</th>\n",
       "      <td>0</td>\n",
       "      <td>0</td>\n",
       "      <td>0</td>\n",
       "      <td>1</td>\n",
       "      <td>0</td>\n",
       "    </tr>\n",
       "    <tr>\n",
       "      <th>722</th>\n",
       "      <td>0</td>\n",
       "      <td>0</td>\n",
       "      <td>0</td>\n",
       "      <td>1</td>\n",
       "      <td>0</td>\n",
       "    </tr>\n",
       "  </tbody>\n",
       "</table>\n",
       "<p>292 rows × 5 columns</p>\n",
       "</div>"
      ],
      "text/plain": [
       "      -1.375486  -0.619098   0.137290   0.893677   1.650065\n",
       "892           1          0          0          0          0\n",
       "1105          0          0          0          0          1\n",
       "413           0          0          0          0          1\n",
       "522           1          0          0          0          0\n",
       "1036          0          0          0          1          0\n",
       "...         ...        ...        ...        ...        ...\n",
       "479           0          1          0          0          0\n",
       "1361          0          0          0          1          0\n",
       "802           0          0          1          0          0\n",
       "651           0          0          0          1          0\n",
       "722           0          0          0          1          0\n",
       "\n",
       "[292 rows x 5 columns]"
      ]
     },
     "execution_count": 54,
     "metadata": {},
     "output_type": "execute_result"
    }
   ],
   "source": [
    "#Encode categorical variables\n",
    "\n",
    "oe_train=pd.get_dummies(x_train[col])\n",
    "oe_test=pd.get_dummies(x_test[col])\n",
    "\n",
    "oe_test"
   ]
  },
  {
   "cell_type": "code",
   "execution_count": 61,
   "id": "d6c0fbfc",
   "metadata": {},
   "outputs": [],
   "source": [
    "#align values \n",
    "\n",
    "oe_train_final,oe_test_final=oe_train.align(oe_test,join='inner',axis=1)\n"
   ]
  },
  {
   "cell_type": "code",
   "execution_count": 59,
   "id": "13a4694a",
   "metadata": {},
   "outputs": [],
   "source": [
    "#concatinate Continous, Categorical \n",
    "\n",
    "x_train_final=pd.concat([x_train[con_cols],oe_train_final],axis=1)\n",
    "x_test_final=pd.concat([x_test[con_cols],oe_test_final],axis=1)\n",
    "\n"
   ]
  },
  {
   "cell_type": "code",
   "execution_count": 79,
   "id": "4f450169",
   "metadata": {},
   "outputs": [],
   "source": [
    "# Build liner regression model\n",
    "\n",
    "from sklearn.linear_model import LinearRegression\n",
    "linreg=LinearRegression()\n",
    "\n",
    "linreg.fit(x_train_final,y_train)\n",
    "lin_sale_pred=linreg.predict(x_test_final)\n"
   ]
  },
  {
   "cell_type": "code",
   "execution_count": 80,
   "id": "a7e6cdeb",
   "metadata": {},
   "outputs": [
    {
     "data": {
      "text/plain": [
       "0.8212441588378957"
      ]
     },
     "execution_count": 80,
     "metadata": {},
     "output_type": "execute_result"
    }
   ],
   "source": [
    "#check r2 score\n",
    "\n",
    "from sklearn.metrics import r2_score\n",
    "\n",
    "r2_score(y_test,lin_sale_pred)\n",
    "#r2_score(y_test,sale_pred)"
   ]
  },
  {
   "cell_type": "code",
   "execution_count": 77,
   "id": "cac88259",
   "metadata": {},
   "outputs": [],
   "source": [
    "#Decision tree regresser\n",
    "\n",
    "from sklearn.tree import DecisionTreeRegressor\n",
    "\n",
    "dcstree=DecisionTreeRegressor()\n",
    "\n",
    "dcstree.fit(x_train_final,y_train)\n",
    "dcs_sale_pred=dcstree.predict(x_test_final)\n"
   ]
  },
  {
   "cell_type": "code",
   "execution_count": 78,
   "id": "633e44e9",
   "metadata": {},
   "outputs": [
    {
     "data": {
      "text/plain": [
       "0.8025852517882497"
      ]
     },
     "execution_count": 78,
     "metadata": {},
     "output_type": "execute_result"
    }
   ],
   "source": [
    "#R2 score for decision tree model\n",
    "\n",
    "r2_score(y_test,dcs_sale_pred)"
   ]
  }
 ],
 "metadata": {
  "kernelspec": {
   "display_name": "Python 3",
   "language": "python",
   "name": "python3"
  },
  "language_info": {
   "codemirror_mode": {
    "name": "ipython",
    "version": 3
   },
   "file_extension": ".py",
   "mimetype": "text/x-python",
   "name": "python",
   "nbconvert_exporter": "python",
   "pygments_lexer": "ipython3",
   "version": "3.8.8"
  }
 },
 "nbformat": 4,
 "nbformat_minor": 5
}
